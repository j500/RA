{
 "cells": [
  {
   "cell_type": "code",
   "execution_count": 77,
   "metadata": {
    "collapsed": false
   },
   "outputs": [],
   "source": [
    "%matplotlib inline\n",
    "\n",
    "from __future__ import print_function\n",
    "from operator import sub\n",
    "import matplotlib.pyplot as pyplot"
   ]
  },
  {
   "cell_type": "code",
   "execution_count": null,
   "metadata": {
    "collapsed": true
   },
   "outputs": [],
   "source": []
  },
  {
   "cell_type": "code",
   "execution_count": 78,
   "metadata": {
    "collapsed": false
   },
   "outputs": [
    {
     "name": "stdout",
     "output_type": "stream",
     "text": [
      "hello\n"
     ]
    }
   ],
   "source": [
    "print(\"hello\")"
   ]
  },
  {
   "cell_type": "code",
   "execution_count": 79,
   "metadata": {
    "collapsed": true
   },
   "outputs": [],
   "source": [
    "def hello(name):\n",
    "    print(\"hello\")\n",
    "    print(name)"
   ]
  },
  {
   "cell_type": "code",
   "execution_count": 80,
   "metadata": {
    "collapsed": false
   },
   "outputs": [
    {
     "name": "stdout",
     "output_type": "stream",
     "text": [
      "hello\n",
      "xxx\n"
     ]
    }
   ],
   "source": [
    "hello(\"xxx\")"
   ]
  },
  {
   "cell_type": "raw",
   "metadata": {},
   "source": [
    "is this text?"
   ]
  },
  {
   "cell_type": "code",
   "execution_count": 81,
   "metadata": {
    "collapsed": false
   },
   "outputs": [
    {
     "name": "stdout",
     "output_type": "stream",
     "text": [
      "make a change\n"
     ]
    }
   ],
   "source": [
    "print(\"make a change\")"
   ]
  },
  {
   "cell_type": "markdown",
   "metadata": {},
   "source": [
    "input data"
   ]
  },
  {
   "cell_type": "code",
   "execution_count": 82,
   "metadata": {
    "collapsed": false
   },
   "outputs": [],
   "source": [
    "solarProduced=[22400,35800,76400,127300,149400,142400,133800,106300,88700,53600,23400,14900]\n",
    "totalConsumed=[98086.19,74388.44,73502.22,45981.44,55507.4,66749.66,82012.87,88103.76,65000.63,87710.1,98230.43,103853.73]\n",
    "month=list(range(1,13))\n",
    "\n"
   ]
  },
  {
   "cell_type": "markdown",
   "metadata": {},
   "source": [
    "calculate how much bought or sold:"
   ]
  },
  {
   "cell_type": "code",
   "execution_count": 83,
   "metadata": {
    "collapsed": false
   },
   "outputs": [
    {
     "name": "stdout",
     "output_type": "stream",
     "text": [
      "[-75686.19, -38588.44, 2897.779999999999, 81318.56, 93892.6, 75650.34, 51787.130000000005, 18196.240000000005, 23699.370000000003, -34110.100000000006, -74830.43, -88953.73]\n"
     ]
    }
   ],
   "source": [
    "boughtSold=list(map(sub, solarProduced, totalConsumed))\n",
    "print(boughtSold)"
   ]
  },
  {
   "cell_type": "markdown",
   "metadata": {},
   "source": [
    "run this to see the chart of how much energy is imported (negative numbers) or exported (positive numbers)"
   ]
  },
  {
   "cell_type": "code",
   "execution_count": 84,
   "metadata": {
    "collapsed": false
   },
   "outputs": [
    {
     "data": {
      "image/png": "[encoded data removed]",
      "text/plain": [
       "<matplotlib.figure.Figure at 0x7f1fd68>"
      ]
     },
     "metadata": {},
     "output_type": "display_data"
    }
   ],
   "source": [
    "pyplot.plot(boughtSold)\n",
    "show()"
   ]
  },
  {
   "cell_type": "markdown",
   "metadata": {},
   "source": [
    "calculate how much solar is exported to grid"
   ]
  },
  {
   "cell_type": "code",
   "execution_count": 85,
   "metadata": {
    "collapsed": false
   },
   "outputs": [
    {
     "name": "stdout",
     "output_type": "stream",
     "text": [
      "[     0.        0.     2897.78  81318.56  93892.6   75650.34  51787.13\n",
      "  18196.24  23699.37      0.        0.        0.  ]\n"
     ]
    }
   ],
   "source": [
    "npBoughtSold = np.array(boughtSold)\n",
    "exported = npBoughtSold.clip(min=0)\n",
    "print(exported)"
   ]
  },
  {
   "cell_type": "code",
   "execution_count": 86,
   "metadata": {
    "collapsed": false
   },
   "outputs": [
    {
     "name": "stdout",
     "output_type": "stream",
     "text": [
      "[ 75686.19  38588.44     -0.       -0.       -0.       -0.       -0.\n",
      "     -0.       -0.    34110.1   74830.43  88953.73]\n"
     ]
    }
   ],
   "source": [
    "imported=-npBoughtSold.clip(max=0)\n",
    "print(imported)"
   ]
  },
  {
   "cell_type": "markdown",
   "metadata": {},
   "source": [
    "amount of solar used:"
   ]
  },
  {
   "cell_type": "code",
   "execution_count": 87,
   "metadata": {
    "collapsed": false
   },
   "outputs": [
    {
     "name": "stdout",
     "output_type": "stream",
     "text": [
      "[22400, 35800, 73502.22, 45981.44, 55507.4, 66749.66, 82012.87, 88103.76, 65000.63, 53600, 23400, 14900]\n"
     ]
    }
   ],
   "source": [
    "solarUsed=[]\n",
    "for produced,consumed, producedMinusConsumed in zip(solarProduced, totalConsumed, boughtSold):\n",
    "    if producedMinusConsumed<0:\n",
    "        solarUsed.append(produced)\n",
    "    else:\n",
    "        solarUsed.append(consumed)\n",
    "        \n",
    "print(solarUsed)"
   ]
  },
  {
   "cell_type": "markdown",
   "metadata": {},
   "source": [
    "run this to see the chart"
   ]
  },
  {
   "cell_type": "code",
   "execution_count": 88,
   "metadata": {
    "collapsed": false
   },
   "outputs": [
    {
     "data": {
      "image/png": "[encoded data removed]",
      "text/plain": [
       "<matplotlib.figure.Figure at 0x7772208>"
      ]
     },
     "metadata": {},
     "output_type": "display_data"
    }
   ],
   "source": [
    "pyplot.plot(solarUsed)\n",
    "show()"
   ]
  },
  {
   "cell_type": "markdown",
   "metadata": {},
   "source": [
    "define constants"
   ]
  },
  {
   "cell_type": "code",
   "execution_count": 89,
   "metadata": {
    "collapsed": true
   },
   "outputs": [],
   "source": [
    "PPA=0.12\n",
    "FIT=0.05\n",
    "exportPrice=0.045\n",
    "importPrice=0.07"
   ]
  },
  {
   "cell_type": "markdown",
   "metadata": {},
   "source": [
    "calculate monthlyReturn"
   ]
  },
  {
   "cell_type": "code",
   "execution_count": 90,
   "metadata": {
    "collapsed": false
   },
   "outputs": [
    {
     "name": "stdout",
     "output_type": "stream",
     "text": [
      "[  7592.3095    8015.422    12770.6665   15542.108    18356.055    18534.2245\n",
      "  18861.96525  16706.282    13301.54725  10817.505     7719.5215\n",
      "   6980.6865 ]\n"
     ]
    }
   ],
   "source": [
    "monthlyReturn=(np.array(solarUsed)*(FIT+PPA))+(exported*(FIT+exportPrice))+(imported*(PPA-importPrice))\n",
    "print(monthlyReturn)"
   ]
  },
  {
   "cell_type": "code",
   "execution_count": 91,
   "metadata": {
    "collapsed": false
   },
   "outputs": [
    {
     "data": {
      "image/png": "[encoded data removed]",
      "text/plain": [
       "<matplotlib.figure.Figure at 0x755ea90>"
      ]
     },
     "metadata": {},
     "output_type": "display_data"
    }
   ],
   "source": [
    "pyplot.plot(monthlyReturn)\n",
    "show()"
   ]
  },
  {
   "cell_type": "markdown",
   "metadata": {
    "collapsed": true
   },
   "source": [
    "calculate annualReturn"
   ]
  },
  {
   "cell_type": "code",
   "execution_count": 92,
   "metadata": {
    "collapsed": false
   },
   "outputs": [
    {
     "name": "stdout",
     "output_type": "stream",
     "text": [
      "155198.293\n"
     ]
    }
   ],
   "source": [
    "annualReturn=np.sum(monthlyReturn)\n",
    "print(annualReturn)"
   ]
  },
  {
   "cell_type": "code",
   "execution_count": null,
   "metadata": {
    "collapsed": true
   },
   "outputs": [],
   "source": []
  }
 ],
 "metadata": {
  "kernelspec": {
   "display_name": "Python 3",
   "language": "python",
   "name": "python3"
  },
  "language_info": {
   "codemirror_mode": {
    "name": "ipython",
    "version": 3
   },
   "file_extension": ".py",
   "mimetype": "text/x-python",
   "name": "python",
   "nbconvert_exporter": "python",
   "pygments_lexer": "ipython3",
   "version": "3.5.1"
  }
 },
 "nbformat": 4,
 "nbformat_minor": 0
}
